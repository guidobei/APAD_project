{
 "cells": [
  {
   "cell_type": "code",
   "execution_count": 1,
   "metadata": {
    "slideshow": {
     "slide_type": "slide"
    }
   },
   "outputs": [],
   "source": [
    "import random\n",
    "import numpy as np\n",
    "import pandas as pd\n",
    "import json\n",
    "import matplotlib as mpl\n",
    "import matplotlib.pyplot as plt\n",
    "import networkx as nx"
   ]
  },
  {
   "cell_type": "code",
   "execution_count": 2,
   "metadata": {},
   "outputs": [],
   "source": [
    "with open('dpc-covid19-ita-province.json') as f:\n",
    "    d = json.load(f)"
   ]
  },
  {
   "cell_type": "code",
   "execution_count": 3,
   "metadata": {},
   "outputs": [],
   "source": [
    "def data_cleaning(ls):\n",
    "    \n",
    "    '''Funzione che ritorna una lista di dati puliti, nel caso in cui venga passata una lista di dizionari. La lista ritornata è\n",
    "    composta da tre liste. Nell'ordine: una lista con i nomi delle città, una lista con le latitudini ed una con le longitudini,\n",
    "    senza perdere la corrispondenza (i.e. in posizione i-esima di ogni lista ci sono i dettagli della città i-esima).'''\n",
    "\n",
    "    posizioni = {} # creo anche un dizionario con il duplice scopo di accelerare i tempi di controllo quando faccio il while se una provincia è già stata memorizzata e per memorizzare le posizioni\n",
    "    province = []\n",
    "    lat = []\n",
    "    long = []\n",
    "    real = []\n",
    "    i = 0\n",
    "    while i < len(ls) and ls[i].get('sigla_provincia') not in posizioni: # faccio un while in modo che si fermi al primo doppione\n",
    "        if ls[i].get('sigla_provincia') != '':\n",
    "            province.append(ls[i].get('sigla_provincia'))\n",
    "            lat.append(ls[i].get('lat'))\n",
    "            long.append(ls[i].get('long'))\n",
    "            posizioni[ls[i].get('sigla_provincia')] = (ls[i].get('long'), ls[i].get('lat'))\n",
    "        i += 1\n",
    "    real.append(province)\n",
    "    real.append(lat)\n",
    "    real.append(long)\n",
    "    return real"
   ]
  },
  {
   "cell_type": "code",
   "execution_count": 4,
   "metadata": {
    "slideshow": {
     "slide_type": "subslide"
    }
   },
   "outputs": [],
   "source": [
    "def casual_data(n):\n",
    "    \n",
    "    '''Funzione che ritorna una lista di dati casuali di n città che hanno latitudine nell'intervallo [30,50] e longitudine in\n",
    "    [10,20]. La lista ritornata è composta da tre liste. Nell'ordine: una lista con i nomi delle città, una lista con le \n",
    "    latitudini ed una con le longitudini, senza perdere la corrispondenza (i.e. in posizione i-esima di ogni lista ci sono i \n",
    "    dettagli della città i-esima).'''   \n",
    "    \n",
    "    casual = []\n",
    "    nomi = list(range(n)) \n",
    "    lat = [30 + 20 * random.random() for _ in range(n)] # ci mette meno della list range\n",
    "    long = [10 + 10 * random.random() for _ in range(n)] # idem\n",
    "    casual.append(nomi)\n",
    "    casual.append(lat)\n",
    "    casual.append(long)\n",
    "    dizionario = {}\n",
    "    for i in range(n):\n",
    "        dizionario[nomi[i]] = (long[i], lat[i])\n",
    "    return casual"
   ]
  },
  {
   "cell_type": "code",
   "execution_count": 5,
   "metadata": {
    "slideshow": {
     "slide_type": "subslide"
    }
   },
   "outputs": [],
   "source": [
    "def graph(ls, distanza):\n",
    "    \n",
    "    '''Funzione che restituisce in tempo lineare un grafo quando le viene passata una lista di tre liste ed una distanza per\n",
    "    impostare gli archi.\n",
    "    La lista passata deve contenere, in ordine, una lista di nomi di città, una lista delle latitudini delle città ed una lista \n",
    "    delle longitudini delle città, ché siano corrispondenti uno ad uno (i.e. in posizione i-esima di ogni lista ci devono essere i \n",
    "    dettagli della città i-esima). Se si intende lavorare con il file json fornito dal dipartimento della Protezione Civile è\n",
    "    sufficiente pulire i dati con la funzione `data_cleaning(ls)`; se altrimenti si vuole procedere con una simulazione è\n",
    "    necessario ricorrere alla funzione `casual_data(n)`.\n",
    "    I vertici sono rappresentati dalle città e si traccia un arco tra di essi se ciò che segue è verificato: sia (x,y) la\n",
    "    posizione di a, allora b è in posizione (z,w), con z in [x-d, x+d] e w in [y-d, y+d], con d = distanza.'''\n",
    "    \n",
    "    lx = ls[:]\n",
    "    long = lx.pop()\n",
    "    lat = lx.pop()\n",
    "    nomi = lx.pop()\n",
    "    \n",
    "    var_lat = np.var(lat)\n",
    "    var_long = np.var(long)\n",
    "    \n",
    "    posizioni = {}\n",
    "    G = nx.Graph()\n",
    "    \n",
    "    \n",
    "    if var_lat > var_long:\n",
    "        tuples = zip(*sorted(zip(lat, nomi, long)))\n",
    "        lat, nomi, long = [list(tuple) for tuple in tuples]\n",
    "        edges = []\n",
    "        for i in range(len(nomi)):\n",
    "            nome_i = nomi[i]\n",
    "            G.add_node(nome_i, pos=(long[i], lat[i]), color=setColor(i, long))\n",
    "            j = i + 1\n",
    "            dist_lat = 0\n",
    "            while dist_lat <= 0.08 and j < len(nomi): \n",
    "                dist_lat = lat[j] - lat[i] # non prendo il valore assoluto perché è un valore già positivo\n",
    "                dist_long = abs(long[j] - long[i])\n",
    "                nome_j = nomi[j]\n",
    "                if dist_long <= 0.08:\n",
    "                    edges.append((nome_i, nome_j))\n",
    "                j += 1\n",
    "    else:\n",
    "        tuples = zip(*sorted(zip(long, nomi, lat)))\n",
    "        long, nomi, lat = [list(tuple) for tuple in tuples]\n",
    "        edges = []\n",
    "        for i in range(len(nomi)):\n",
    "            nome_i = nomi[i]\n",
    "            G.add_node(nome_i, pos=(long[i], lat[i]), color=setColor(i, long))\n",
    "            j = i + 1\n",
    "            dist_long = 0\n",
    "            while dist_long <= distanza and j < len(nomi):\n",
    "                dist_long = long[j] - long[i] # non prendo il valore assoluto perché è un valore già positivo\n",
    "                dist_lat = abs(lat[j] - lat[i])\n",
    "                nome_j = nomi[j]\n",
    "                if dist_lat <= distanza:\n",
    "                    edges.append((nome_i, nome_j))\n",
    "                j += 1\n",
    "                \n",
    "    G.add_edges_from(edges)            \n",
    "    return G"
   ]
  },
  {
   "cell_type": "code",
   "execution_count": 6,
   "metadata": {},
   "outputs": [],
   "source": [
    "def setColor(node, long):\n",
    "    ma = max(long)\n",
    "    mi = min(long)\n",
    "    q = (ma - mi) / 3\n",
    "    y = long[node]\n",
    "    if y >= mi and y < mi + q:\n",
    "        return 'green'\n",
    "    if y >= mi + q and y <= mi + 2*q:\n",
    "        return 'white'    \n",
    "    if y >= mi + 2*q and y <= mi + 3*q:\n",
    "        return 'red'"
   ]
  },
  {
   "cell_type": "code",
   "execution_count": 7,
   "metadata": {
    "slideshow": {
     "slide_type": "slide"
    }
   },
   "outputs": [],
   "source": [
    "dati_reali = data_cleaning(d)\n",
    "dati_casuali = casual_data(2000)"
   ]
  },
  {
   "cell_type": "code",
   "execution_count": 11,
   "metadata": {},
   "outputs": [],
   "source": [
    "P = graph(dati_reali, 0.8)\n",
    "R = graph(dati_casuali, 0.08)"
   ]
  },
  {
   "cell_type": "code",
   "execution_count": 16,
   "metadata": {
    "slideshow": {
     "slide_type": "slide"
    }
   },
   "outputs": [
    {
     "data": {
      "image/png": "[encoded data removed]",
      "text/plain": [
       "<Figure size 432x288 with 1 Axes>"
      ]
     },
     "metadata": {},
     "output_type": "display_data"
    }
   ],
   "source": [
    "nx.draw(P, pos=nx.get_node_attributes(P, 'pos'), with_labels=True, node_size=150, font_size=8, node_color=nx.get_node_attributes(P, 'color').values())"
   ]
  },
  {
   "cell_type": "code",
   "execution_count": 10,
   "metadata": {},
   "outputs": [
    {
     "ename": "NameError",
     "evalue": "name 'eulerian_path' is not defined",
     "output_type": "error",
     "traceback": [
      "\u001b[1;31m---------------------------------------------------------------------------\u001b[0m",
      "\u001b[1;31mNameError\u001b[0m                                 Traceback (most recent call last)",
      "\u001b[1;32m<ipython-input-10-553f361a467e>\u001b[0m in \u001b[0;36m<module>\u001b[1;34m\u001b[0m\n\u001b[1;32m----> 1\u001b[1;33m \u001b[0meulerian_path\u001b[0m\u001b[1;33m(\u001b[0m\u001b[0mP\u001b[0m\u001b[1;33m)\u001b[0m\u001b[1;33m\u001b[0m\u001b[1;33m\u001b[0m\u001b[0m\n\u001b[0m",
      "\u001b[1;31mNameError\u001b[0m: name 'eulerian_path' is not defined"
     ]
    }
   ],
   "source": [
    "eulerian_path(P)"
   ]
  },
  {
   "cell_type": "markdown",
   "metadata": {
    "slideshow": {
     "slide_type": "slide"
    }
   },
   "source": [
    "Implementare l'altro algoritmo e migliorare la funzione `is_bridge`"
   ]
  },
  {
   "cell_type": "code",
   "execution_count": null,
   "metadata": {},
   "outputs": [],
   "source": [
    "def eulerian_path(G):\n",
    "    \n",
    "    CC = list(nx.connected_components(G))\n",
    "    CC_count = 0\n",
    "    for c in CC:\n",
    "        if len(c) != 1:\n",
    "            CC_count += 1\n",
    "    if CC_count != 1:\n",
    "        return 'This graph is not Eulerian.'\n",
    "    \n",
    "    edges = G.edges\n",
    "    degree = G.degree    \n",
    "    nodes = list(G.nodes)\n",
    "    \n",
    "    odd_degree_nodes = 0\n",
    "    odd_list = []\n",
    "    for anode in nodes:\n",
    "        if degree[anode] % 2 != 0:\n",
    "            odd_degree_nodes += 1\n",
    "            odd_list.append(anode)\n",
    "            \n",
    "    edge_path = []\n",
    "    if odd_degree_nodes == 2:\n",
    "        next_node = odd_list[random.randint(0, len(odd_list)-1)]\n",
    "        while edges:\n",
    "            current_node = next_node\n",
    "            edge_path.append(current_node)\n",
    "            node_edges = list(edges(current_node))\n",
    "            arandom = random.randint(0, len(node_edges)-1)\n",
    "            edge = node_edges[arandom]\n",
    "            if not is_bridge(edge, G):\n",
    "                next_node = edge[1]\n",
    "                G.remove_edge(*edge)\n",
    "        edge_path.append(next_node)\n",
    "        return edge_path\n",
    "                \n",
    "    elif odd_degree_nodes == 0:\n",
    "        next_node = nodes[random.randint(0, len(nodes)-1)]\n",
    "        while edges:\n",
    "            current_node = next_node\n",
    "            edge_path.append(current_node)\n",
    "            node_edges = list(edges(current_node))\n",
    "            arandom = random.randint(0, len(node_edges)-1)\n",
    "            edge = node_edges[arandom]\n",
    "            if not is_bridge(edge, G):\n",
    "                next_node = edge[1]\n",
    "                G.remove_edge(*edge)\n",
    "        edge_path.append(next_node)\n",
    "        return edge_path\n",
    "    \n",
    "    else:\n",
    "        return 'This graph is not Eulerian.'\n",
    "    \n",
    "def is_bridge(edge, G):\n",
    "    H = G.copy()\n",
    "    H.remove_edge(*edge)\n",
    "    new_CC = list(nx.connected_components(H))\n",
    "    CC_count = 0\n",
    "    for c in new_CC:\n",
    "        if len(c) != 1:\n",
    "            CC_count += 1\n",
    "    if CC_count > 1:\n",
    "        return True\n",
    "    return False"
   ]
  },
  {
   "cell_type": "code",
   "execution_count": 19,
   "metadata": {},
   "outputs": [],
   "source": [
    "def is_bridge(edge, G):\n",
    "    H = G.copy()\n",
    "    H.remove_edge(*edge)\n",
    "    new_CC = list(nx.connected_components(H))\n",
    "    CC_count = 0\n",
    "    for c in new_CC:\n",
    "        if len(c) != 1:\n",
    "            CC_count += 1\n",
    "    if CC_count > 1:\n",
    "        return True\n",
    "    return False"
   ]
  },
  {
   "cell_type": "code",
   "execution_count": 20,
   "metadata": {},
   "outputs": [
    {
     "name": "stdout",
     "output_type": "stream",
     "text": [
      "479 µs ± 43.9 µs per loop (mean ± std. dev. of 7 runs, 1000 loops each)\n"
     ]
    }
   ],
   "source": [
    "%%timeit\n",
    "\n",
    "CC = list(nx.connected_components(P))\n",
    "CC_count = 0\n",
    "for c in CC:\n",
    "    if len(c) != 1:\n",
    "        CC_count += 1\n",
    "edges = P.edges\n",
    "degree = P.degree    \n",
    "nodes = list(P.nodes)\n",
    "odd_degree_nodes = 0\n",
    "odd_list = []\n",
    "for anode in nodes:\n",
    "    if degree[anode] % 2 != 0:\n",
    "        odd_degree_nodes += 1\n",
    "        odd_list.append(anode)            \n",
    "edge_path = []\n",
    "if odd_degree_nodes == 2:\n",
    "    next_node = odd_list[random.randint(0, len(odd_list)-1)]\n",
    "    while edges:\n",
    "        current_node = next_node\n",
    "        edge_path.append(current_node)\n",
    "        node_edges = edges(current_node)\n",
    "        ls_node_edges = list(node_edges)\n",
    "        arandom = random.randint(0, len(node_edges)-1)\n",
    "        edge = ls_node_edges[arandom]\n",
    "        if not is_bridge(edge, P):\n",
    "            next_node = edge[1]\n",
    "            P.remove_edge(*edge)\n",
    "    edge_path.append(next_node)                \n",
    "elif odd_degree_nodes == 0:\n",
    "    next_node = nodes[random.randint(0, len(nodes)-1)]\n",
    "    while edges:\n",
    "        current_node = next_node\n",
    "        edge_path.append(current_node)\n",
    "        node_edges = edges(current_node)\n",
    "        ls_node_edges = list(node_edges)\n",
    "        arandom = random.randint(0, len(node_edges)-1)\n",
    "        edge = ls_node_edges[arandom]\n",
    "        if not is_bridge(edge, P):\n",
    "            next_node = edge[1]\n",
    "            P.remove_edge(*edge)\n",
    "    edge_path.append(next_node)"
   ]
  },
  {
   "cell_type": "code",
   "execution_count": 21,
   "metadata": {},
   "outputs": [],
   "source": [
    "def degree_distribution(G):\n",
    "    degree = dict(G.degree)\n",
    "    L = list(degree.values())\n",
    "    V = {adegree: None for adegree in L} # faccio un vocabolario in modo da eliminare tutti i doppioni (mi costa O(n))\n",
    "    k = [adegree for adegree in V] # riconverto tutto in lista\n",
    "    k.sort() # O(n*log(n))\n",
    "    n = len(degree)\n",
    "    freq = [0]*(max(k)+1)\n",
    "    for i in L:\n",
    "        freq[i] = freq[i] + 1\n",
    "    distr_dict = {}\n",
    "    for i in k: # devo per forza utilizzare k nel caso in cui ci fossero dei buchi\n",
    "        distr_dict[i] = freq[i] / n\n",
    "    return distr_dict\n",
    "\n",
    "def Pr(k, G):\n",
    "    return degree_distribution(G).get(k)"
   ]
  },
  {
   "cell_type": "code",
   "execution_count": 23,
   "metadata": {},
   "outputs": [
    {
     "ename": "SyntaxError",
     "evalue": "invalid syntax (<ipython-input-23-13f536ce871e>, line 5)",
     "output_type": "error",
     "traceback": [
      "\u001b[1;36m  File \u001b[1;32m\"<ipython-input-23-13f536ce871e>\"\u001b[1;36m, line \u001b[1;32m5\u001b[0m\n\u001b[1;33m    pl[anode] = 1 /\u001b[0m\n\u001b[1;37m                    ^\u001b[0m\n\u001b[1;31mSyntaxError\u001b[0m\u001b[1;31m:\u001b[0m invalid syntax\n"
     ]
    }
   ],
   "source": [
    "def power_law(G):\n",
    "    degree = dict(G.degree)\n",
    "    pl = {}\n",
    "    for anode in degree:\n",
    "        pl[anode] = 1 / "
   ]
  },
  {
   "cell_type": "code",
   "execution_count": 26,
   "metadata": {},
   "outputs": [
    {
     "data": {
      "image/png": "[encoded data removed]",
      "text/plain": [
       "<Figure size 432x288 with 1 Axes>"
      ]
     },
     "metadata": {},
     "output_type": "display_data"
    }
   ],
   "source": [
    "K = nx.complete_graph(9)\n",
    "nx.draw(K, with_labels=True)"
   ]
  },
  {
   "cell_type": "code",
   "execution_count": 27,
   "metadata": {},
   "outputs": [
    {
     "data": {
      "text/plain": [
       "[1,\n",
       " 0,\n",
       " 5,\n",
       " 3,\n",
       " 1,\n",
       " 7,\n",
       " 2,\n",
       " 0,\n",
       " 4,\n",
       " 1,\n",
       " 5,\n",
       " 7,\n",
       " 8,\n",
       " 1,\n",
       " 6,\n",
       " 7,\n",
       " 3,\n",
       " 8,\n",
       " 4,\n",
       " 6,\n",
       " 5,\n",
       " 4,\n",
       " 3,\n",
       " 0,\n",
       " 7,\n",
       " 4,\n",
       " 2,\n",
       " 3,\n",
       " 6,\n",
       " 2,\n",
       " 5,\n",
       " 8,\n",
       " 6,\n",
       " 0,\n",
       " 8,\n",
       " 2,\n",
       " 1]"
      ]
     },
     "execution_count": 27,
     "metadata": {},
     "output_type": "execute_result"
    }
   ],
   "source": [
    "eulerian_path(K)"
   ]
  },
  {
   "cell_type": "code",
   "execution_count": 98,
   "metadata": {},
   "outputs": [
    {
     "ename": "IndexError",
     "evalue": "string index out of range",
     "output_type": "error",
     "traceback": [
      "\u001b[1;31m---------------------------------------------------------------------------\u001b[0m",
      "\u001b[1;31mIndexError\u001b[0m                                Traceback (most recent call last)",
      "\u001b[1;32m<ipython-input-98-a32185ab0cdf>\u001b[0m in \u001b[0;36m<module>\u001b[1;34m\u001b[0m\n\u001b[0;32m      1\u001b[0m \u001b[1;32mfor\u001b[0m \u001b[0manode\u001b[0m \u001b[1;32min\u001b[0m \u001b[0mdict\u001b[0m\u001b[1;33m(\u001b[0m\u001b[0mP\u001b[0m\u001b[1;33m.\u001b[0m\u001b[0mdegree\u001b[0m\u001b[1;33m)\u001b[0m\u001b[1;33m:\u001b[0m\u001b[1;33m\u001b[0m\u001b[1;33m\u001b[0m\u001b[0m\n\u001b[1;32m----> 2\u001b[1;33m     \u001b[0mprint\u001b[0m\u001b[1;33m(\u001b[0m\u001b[0manode\u001b[0m\u001b[1;33m[\u001b[0m\u001b[1;36m2\u001b[0m\u001b[1;33m]\u001b[0m\u001b[1;33m)\u001b[0m\u001b[1;33m\u001b[0m\u001b[1;33m\u001b[0m\u001b[0m\n\u001b[0m",
      "\u001b[1;31mIndexError\u001b[0m: string index out of range"
     ]
    }
   ],
   "source": [
    "for anode in dict(P.degree):\n",
    "    print(anode[2])"
   ]
  },
  {
   "cell_type": "code",
   "execution_count": 90,
   "metadata": {},
   "outputs": [
    {
     "data": {
      "text/plain": [
       "{0: 0.7565, 1: 0.2095, 2: 0.0305, 3: 0.0035}"
      ]
     },
     "execution_count": 90,
     "metadata": {},
     "output_type": "execute_result"
    }
   ],
   "source": [
    "degree_distribution(R)"
   ]
  },
  {
   "cell_type": "code",
   "execution_count": 89,
   "metadata": {},
   "outputs": [
    {
     "data": {
      "image/png": "[encoded data removed]",
      "text/plain": [
       "<Figure size 432x288 with 1 Axes>"
      ]
     },
     "metadata": {
      "needs_background": "light"
     },
     "output_type": "display_data"
    }
   ],
   "source": [
    "x = list(degree_distribution(R).keys())\n",
    "y = list(degree_distribution(R).values())\n",
    "plt.axis([-0.2, 3.2, 0, 0.8])\n",
    "plt.xlabel('degree')\n",
    "plt.xticks(x)\n",
    "plt.ylabel('freq')\n",
    "plt.bar(x, y, width=0.03);"
   ]
  },
  {
   "cell_type": "markdown",
   "metadata": {},
   "source": [
    "### Eulerian circuit, Wikipedia\n",
    "\n",
    "An undirected graph has an Eulerian cycle if and only if every vertex has even degree, and all of its vertices with nonzero degree belong to a single connected component.\n",
    "> An undirected graph can be decomposed into edge-disjoint cycles if and only if all of its vertices have even degree. So, a graph has an Eulerian cycle if and only if it can be decomposed into edge-disjoint cycles and its nonzero-degree vertices belong to a single connected component.\n",
    "\n",
    "An undirected graph has an Eulerian trail if and only if exactly zero or two vertices have odd degree, and all of its vertices with nonzero degree belong to a single connected component.\n"
   ]
  },
  {
   "cell_type": "markdown",
   "metadata": {},
   "source": [
    "### Eulerian path, networkx doc\n",
    "exactly zero or two vertices have odd degree,\n",
    "\n",
    "and all of its vertices with nonzero degree belong to a\n",
    "\n",
    "single connected component."
   ]
  },
  {
   "cell_type": "code",
   "execution_count": null,
   "metadata": {},
   "outputs": [],
   "source": []
  },
  {
   "cell_type": "code",
   "execution_count": null,
   "metadata": {},
   "outputs": [],
   "source": []
  },
  {
   "cell_type": "markdown",
   "metadata": {},
   "source": [
    "Questo sotto serve per ritrovare le calcolare il tempo"
   ]
  },
  {
   "cell_type": "code",
   "execution_count": null,
   "metadata": {},
   "outputs": [],
   "source": []
  },
  {
   "cell_type": "code",
   "execution_count": 37,
   "metadata": {},
   "outputs": [
    {
     "name": "stdout",
     "output_type": "stream",
     "text": [
      "15.8 ms ± 343 µs per loop (mean ± std. dev. of 7 runs, 100 loops each)\n"
     ]
    }
   ],
   "source": [
    "%%timeit\n",
    "n = 2000\n",
    "# utilizzo le liste perché coi dizionari potrei incappare in sovrapposizione di hash\n",
    "nomi = list(range(n)) \n",
    "lat = [30 + 20 * random.random() for _ in range(n)] # ci mette meno della list range\n",
    "long = [10 + 10 * random.random() for _ in range(n)] # idem\n",
    "\n",
    "var_lat = np.var(lat)\n",
    "var_long = np.var(long)\n",
    "\n",
    "if var_lat > var_long:\n",
    "    tuples = zip(*sorted(zip(lat, nomi, long)))\n",
    "    lat, nomi, long = [list(tuple) for tuple in tuples]\n",
    "    edges = []\n",
    "    pos = {}\n",
    "    for i in range(n):\n",
    "        nome_i = nomi[i]\n",
    "        pos[nome_i] = (long[i], lat[i])\n",
    "        j = i + 1\n",
    "        dist_lat = 0\n",
    "        while dist_lat <= 0.08 and j < n: \n",
    "            dist_lat = lat[j] - lat[i] # non prendo il valore assoluto perché è un valore già positivo\n",
    "            dist_long = abs(long[j] - long[i])\n",
    "            nome_j = nomi[j]\n",
    "            if dist_long <= 0.08:\n",
    "                edges.append((nome_i, nome_j))\n",
    "            j += 1\n",
    "else:\n",
    "    tuples = zip(*sorted(zip(long, nomi, lat)))\n",
    "    long, nomi, lat = [list(tuple) for tuple in tuples]\n",
    "    edges = []\n",
    "    pos = {}\n",
    "    for i in range(n):\n",
    "        nome_i = nomi[i]\n",
    "        pos[nome_i] = (long[i], lat[i])\n",
    "        j = i + 1\n",
    "        dist_long = 0\n",
    "        while dist_long <= 0.08 and j < n:\n",
    "            dist_long = long[j] - long[i] # non prendo il valore assoluto perché è un valore già positivo\n",
    "            dist_lat = abs(lat[j] - lat[i])\n",
    "            nome_j = nomi[j]\n",
    "            if dist_lat <= 0.08:\n",
    "                edges.append((nome_i, nome_j))\n",
    "            j += 1"
   ]
  },
  {
   "cell_type": "markdown",
   "metadata": {},
   "source": [
    "##### Coi dizionari (ma ci mette un poco di più)\n",
    "\n",
    "%%timeit\n",
    "n = 2000\n",
    "sigle_province = {}\n",
    "for i in range(n):\n",
    "    sigle_province[i] = (30 + 20 * random.random(), 10 + 10 * random.random())\n",
    "sigle_province = sorted(sigle_province.items(), key=lambda kv: kv[1][0])\n",
    "edges = []\n",
    "for i in range(n):\n",
    "    nome_i = sigle_province[i][0]\n",
    "    j = i + 1\n",
    "    dist_lat = 0\n",
    "    while dist_lat <= 0.08 and j < n: \n",
    "        dist_lat = sigle_province[j][1][0] - sigle_province[i][1][0] # non prendo il valore assoluto perché è un valore già positivo\n",
    "        dist_long = abs(sigle_province[j][1][1] - sigle_province[i][1][1])\n",
    "        nome_j = sigle_province[j][0]\n",
    "        if dist_long <= 0.08:\n",
    "            edges.append((nome_i, nome_j))\n",
    "        j += 1"
   ]
  },
  {
   "cell_type": "markdown",
   "metadata": {},
   "source": [
    "##### metodo mattia\n",
    "dist = 0.08\n",
    "    # df è un dizionario, es: {'PT': (long, lat), 'LU': (long, lat),...}\n",
    "    # dist = 0.8\n",
    "\n",
    "id_node = list(sigle_province.keys())\n",
    "x_node = [row[0] for row in sigle_province.values()]\n",
    "y_node = [row[1] for row in sigle_province.values()]\n",
    "\n",
    "x_node, y_node, id_node = zip(*sorted(zip(x_node, y_node, id_node)))\n",
    "edges = []\n",
    "for i in range(len(x_node)-1):\n",
    "    j = 1\n",
    "    while (i+j) < len(x_node) and (x_node[i+j]-x_node[i]) <= dist:\n",
    "        if abs(y_node[i+j]-y_node[i]) <= dist:\n",
    "            edges.append((id_node[i], id_node[i+j]))\n",
    "        j += 1"
   ]
  },
  {
   "cell_type": "markdown",
   "metadata": {},
   "source": [
    "##### Utilizzando array di Numpy\n",
    "n = 2000\n",
    "nomi = np.arange(n)\n",
    "lat = np.random.rand(n)\n",
    "lat = 30 + 20 * lat \n",
    "long = np.random.rand(n)\n",
    "long = 10 + 10 * long\n",
    "ind = np.argsort(lat)\n",
    "lat = np.sort(lat)\n",
    "edges = []\n",
    "for i in range(n-1):\n",
    "    nome_i = nomi[ind][i]\n",
    "    j = i + 1\n",
    "    dist_x = 0\n",
    "    while dist_x <= 0.08 and j < n:\n",
    "        dist_x = lat[j] - lat[i]\n",
    "        dist_y = abs(long[ind][j] - long[ind][i])\n",
    "        nome_j = nomi[ind][j]\n",
    "        if dist_y <= 0.08:\n",
    "            edges.append((nome_i, nome_j))\n",
    "        j += 1"
   ]
  },
  {
   "cell_type": "markdown",
   "metadata": {},
   "source": [
    "##### Utilizzando i DataFrame\n",
    "n = 2000\n",
    "cities = []\n",
    "for i in range(n):\n",
    "    cities_dict = {}\n",
    "    cities_dict['city_number'] = i\n",
    "    cities_dict['lat'] = 30 + 20 * random.random()\n",
    "    cities_dict['long'] = 10 + 10 * random.random()\n",
    "    cities.append(cities_dict)\n",
    "df_cities = pd.DataFrame(cities)\n",
    "df_cities = df_cities.set_index('city_number')\n",
    "df_cities = df_cities.sort_values('long', kind='mergesort')\n",
    "edges = []\n",
    "for i in range(n):\n",
    "    nome_i = df_cities.index[i]\n",
    "    j = i + 1\n",
    "    dist_x = 0\n",
    "    while dist_x <= 0.08 and j < n:\n",
    "        dist_x = df_cities['lat'].iloc[j] - df_cities['lat'].iloc[i]\n",
    "        dist_y = np.absolute(df_cities['long'].iloc[j] - df_cities['long'].iloc[i])\n",
    "        nome_j = df_cities.index[j]\n",
    "        if dist_y <= 0.08:\n",
    "            edges.append((nome_i, nome_j))\n",
    "        j += 1"
   ]
  },
  {
   "cell_type": "markdown",
   "metadata": {},
   "source": [
    "##### Utilizzando un metodo che ci mette O(n^2)\n",
    "n = 2000\n",
    "l = []\n",
    "for i in range(n):\n",
    "    e = 30 + 20 * random.random()\n",
    "    f = 10 + 10 * random.random()\n",
    "    v = {}\n",
    "    v[\"numero_provincia\"] = i\n",
    "    v[\"lat\"] = e\n",
    "    v[\"long\"] = f\n",
    "    l.append(v)\n",
    "ed = []\n",
    "for i in range(len(l)):\n",
    "    a = l[i].get(\"numero_provincia\")\n",
    "    x = l[i].get(\"lat\")\n",
    "    y = l[i].get(\"long\")\n",
    "    for j in range(i + 1, len(l)):\n",
    "        b = l[j].get(\"numero_provincia\")\n",
    "        z = l[j].get(\"lat\")\n",
    "        w = l[j].get(\"long\")\n",
    "        if abs(x-z) <= 0.08 and abs(y-w) <= 0.08 and a != b:\n",
    "            ed.append((a,b))"
   ]
  },
  {
   "cell_type": "code",
   "execution_count": null,
   "metadata": {},
   "outputs": [],
   "source": []
  }
 ],
 "metadata": {
  "celltoolbar": "Slideshow",
  "kernelspec": {
   "display_name": "Python 3",
   "language": "python",
   "name": "python3"
  },
  "language_info": {
   "codemirror_mode": {
    "name": "ipython",
    "version": 3
   },
   "file_extension": ".py",
   "mimetype": "text/x-python",
   "name": "python",
   "nbconvert_exporter": "python",
   "pygments_lexer": "ipython3",
   "version": "3.8.3"
  }
 },
 "nbformat": 4,
 "nbformat_minor": 4
}
