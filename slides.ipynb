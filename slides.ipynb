{
 "cells": [
  {
   "cell_type": "markdown",
   "metadata": {
    "slideshow": {
     "slide_type": "slide"
    }
   },
   "source": [
    "![](img/Logo-unifi.png)"
   ]
  },
  {
   "cell_type": "markdown",
   "metadata": {},
   "source": [
    "# <center> Algoritmi e Programmazione per l'Analisi dei Dati </center>"
   ]
  },
  {
   "cell_type": "markdown",
   "metadata": {},
   "source": [
    "## <center> Project Assignment </center>\n"
   ]
  },
  {
   "cell_type": "markdown",
   "metadata": {},
   "source": [
    "#### <center> 2019-2020 </center>"
   ]
  },
  {
   "cell_type": "markdown",
   "metadata": {},
   "source": [
    "##### <center> Guido Bei </center>"
   ]
  },
  {
   "cell_type": "markdown",
   "metadata": {
    "slideshow": {
     "slide_type": "subslide"
    }
   },
   "source": [
    "#### <div style=\"text-align: center\"> Abstract </div>"
   ]
  },
  {
   "cell_type": "markdown",
   "metadata": {},
   "source": [
    "<center> The study consists, firstly, in handling with NetworkX graphs, while a second part is dedicated to implement an algorithm for constructing Eulerian paths on graphs, another one for computing degree distribution of graphs and eventually one for estimating the power law exponent. </center>"
   ]
  },
  {
   "cell_type": "code",
   "execution_count": 1,
   "metadata": {},
   "outputs": [],
   "source": [
    "__AUTHORS__ = {'gb': (\"Guido Bei\", \n",
    "                      \"guido.bei@stud.unifi.it\",)}\n",
    "\n",
    "__KEYWORDS__ = ['Python', 'Italian province', 'NetworkX', 'graphs', 'Eulerian path', 'degree distribution', 'power law']"
   ]
  },
  {
   "cell_type": "markdown",
   "metadata": {},
   "source": [
    "<center><img src='img/python_logo.svg'></center>"
   ]
  },
  {
   "cell_type": "markdown",
   "metadata": {
    "slideshow": {
     "slide_type": "slide"
    }
   },
   "source": [
    "# Introduction"
   ]
  },
  {
   "cell_type": "markdown",
   "metadata": {},
   "source": [
    "We will use Covid-19 data with respect to our country, Italy. Data are available at [Protezione Civile GitHub repository](https://github.com/pcm-dpc/COVID-19) and, especially, we will use JSON province data."
   ]
  },
  {
   "cell_type": "markdown",
   "metadata": {
    "slideshow": {
     "slide_type": "fragment"
    }
   },
   "source": [
    "* *Bachelor degree*: Economia e Commercio, UniPi\n",
    "* *Master degree*: Statistica e Data Science, UniFi\n",
    "* *GitHub repository*: https://github.com/guidobei\n",
    "* *Computer*: HP Notebook\n",
    "* *Operating system*: Windows 10 Home\n",
    "* *Processor*: Intel Core i5-6200U CPU @ 2.30GHz 2.40GHz\n",
    "* *Installed RAM*: 4,00 GB\n",
    "* *System type*: 64-bit operating system, x64-based processor\n",
    "* *Python release*: Python 3.8.3\n",
    "* *IDE*: IDLE\n",
    "* *Environment*: Python Virtual Environment\n",
    "    * *Libraries installed*:\n",
    "        * `jupyter`\n",
    "        * `numpy`\n",
    "        * `pandas`\n",
    "        * `matplotlib`\n",
    "        * `networkx`"
   ]
  },
  {
   "cell_type": "markdown",
   "metadata": {
    "slideshow": {
     "slide_type": "subslide"
    }
   },
   "source": [
    "In the following slides we will see:"
   ]
  },
  {
   "cell_type": "markdown",
   "metadata": {
    "slideshow": {
     "slide_type": "fragment"
    }
   },
   "source": [
    "* An Italian province graph `P`"
   ]
  },
  {
   "cell_type": "markdown",
   "metadata": {
    "slideshow": {
     "slide_type": "fragment"
    }
   },
   "source": [
    "* A graph `R` with 2000 random nodes;"
   ]
  },
  {
   "cell_type": "markdown",
   "metadata": {
    "slideshow": {
     "slide_type": "fragment"
    }
   },
   "source": [
    "* `P` and `R` graphs in a weighted version;"
   ]
  },
  {
   "cell_type": "markdown",
   "metadata": {
    "slideshow": {
     "slide_type": "fragment"
    }
   },
   "source": [
    "* The *Seven Bridges of Königsberg* problem;"
   ]
  },
  {
   "cell_type": "markdown",
   "metadata": {
    "slideshow": {
     "slide_type": "fragment"
    }
   },
   "source": [
    "* An algorithm for constructing `Eulerian path` on graphs;"
   ]
  },
  {
   "cell_type": "markdown",
   "metadata": {
    "slideshow": {
     "slide_type": "fragment"
    }
   },
   "source": [
    "* An algorithm for computing `degree distribution` of graphs;"
   ]
  },
  {
   "cell_type": "markdown",
   "metadata": {
    "slideshow": {
     "slide_type": "fragment"
    }
   },
   "source": [
    "* An algorithm for estimating the `power law exponent`."
   ]
  },
  {
   "cell_type": "markdown",
   "metadata": {
    "slideshow": {
     "slide_type": "subslide"
    }
   },
   "source": [
    "The following modules will be used:"
   ]
  },
  {
   "cell_type": "code",
   "execution_count": 2,
   "metadata": {
    "slideshow": {
     "slide_type": "fragment"
    }
   },
   "outputs": [],
   "source": [
    "import random\n",
    "import numpy as np\n",
    "import pandas as pd\n",
    "import json\n",
    "import matplotlib as mpl\n",
    "import matplotlib.pyplot as plt\n",
    "import networkx as nx"
   ]
  },
  {
   "cell_type": "markdown",
   "metadata": {},
   "source": [
    "And the following file is loaded:"
   ]
  },
  {
   "cell_type": "code",
   "execution_count": 3,
   "metadata": {
    "slideshow": {
     "slide_type": "fragment"
    }
   },
   "outputs": [],
   "source": [
    "with open('data\\dpc-covid19-ita-province.json') as f:\n",
    "    d = json.load(f)"
   ]
  },
  {
   "cell_type": "markdown",
   "metadata": {
    "slideshow": {
     "slide_type": "slide"
    }
   },
   "source": [
    "# Italian province graph"
   ]
  },
  {
   "cell_type": "markdown",
   "metadata": {
    "slideshow": {
     "slide_type": "fragment"
    }
   },
   "source": [
    "The scope of this chapter is to build the undirected graph `P` of Italian provinces, using `NetworkX`, in the most possible efficent way.\n",
    "\n",
    "Each node corresponds to a city and two cities *a* and *b* are connected by an edge if the following holds: if (*x*, *y*) is the position of *a*, where *x* is the longitude and *y* is the longitude, then *b* is in position (*z*, *w*) with *z* in [*x-d*, *x+d*] and *w* in [*y-d*, *y+d*], with *d* = 0.8."
   ]
  },
  {
   "cell_type": "markdown",
   "metadata": {
    "slideshow": {
     "slide_type": "fragment"
    }
   },
   "source": [
    "* `Data cleaning` --> a dictionary of provinces is created, identified by their abbreviations, i.e. `{'LU': (43.84432283, 10.50151366), 'FI': (43.76923077, 11.25588885), 'NA': (40.83956555, 14.25084984), ...}` with 107 provinces;`"
   ]
  },
  {
   "cell_type": "code",
   "execution_count": 4,
   "metadata": {
    "slideshow": {
     "slide_type": "skip"
    }
   },
   "outputs": [],
   "source": [
    "def data_cleaning(ls):\n",
    "    \n",
    "    '''Funzione che ritorna una dizionario di dati puliti, nel caso in cui venga passata una lista di dizionari. \n",
    "    Il dizionario ritornato ha come chiavi le sigle delle province, e come valori le tuple (latitudine, longitudine).'''\n",
    "\n",
    "    cleaned = {} # creo anche un dizionario con il duplice scopo di accelerare i tempi di controllo quando faccio il while se una provincia è già stata memorizzata e per memorizzare le posizioni\n",
    "    i = 0\n",
    "    while i < len(ls) and ls[i].get('sigla_provincia') not in cleaned: # faccio un while in modo che si fermi al primo doppione\n",
    "        if ls[i].get('sigla_provincia') != '':\n",
    "            cleaned[ls[i].get('sigla_provincia')] = (ls[i].get('lat'), ls[i].get('long'))\n",
    "        i += 1\n",
    "    return cleaned"
   ]
  },
  {
   "cell_type": "markdown",
   "metadata": {
    "slideshow": {
     "slide_type": "subslide"
    }
   },
   "source": [
    "# Simulated cities graph"
   ]
  },
  {
   "cell_type": "markdown",
   "metadata": {
    "slideshow": {
     "slide_type": "fragment"
    }
   },
   "source": [
    "We then generate 2000 pairs of double (*x*, *y*) with *x* in [*30*, *50*) and *y* in [*10*, *20*) and the algorithm is repeated, in order to build the undirected graph `R` where each pair is a node and two nodes are connected with the same rule reported above, except for the distance *d* = 0.08."
   ]
  },
  {
   "cell_type": "markdown",
   "metadata": {
    "slideshow": {
     "slide_type": "fragment"
    }
   },
   "source": [
    "* `Data generating` --> a dictionary of fake cities is created, identified by a number, i.e. `{26: (43.84432283, 10.50151366), 567: (43.76923077, 11.25588885), 1994: (40.83956555, 14.25084984), ...}` with 2000 cities;"
   ]
  },
  {
   "cell_type": "code",
   "execution_count": 5,
   "metadata": {
    "slideshow": {
     "slide_type": "skip"
    }
   },
   "outputs": [],
   "source": [
    "def data_generating(n):\n",
    "    \n",
    "    '''Funzione che ritorna un dizionari di dati casuali di n città che hanno latitudine nell'intervallo [30, 50] e \n",
    "    longitudine in [10, 20]. \n",
    "    Il dizionario ritornato ha come chiavi il numero identificativo della città e come valori le tuple (latitudine,\n",
    "    longitudine).'''   \n",
    "    \n",
    "    casual = {i: (30 + 20 * random.random(), 10 + 10 * random.random()) for i in range(n)}\n",
    "    return casual"
   ]
  },
  {
   "cell_type": "markdown",
   "metadata": {
    "slideshow": {
     "slide_type": "subslide"
    }
   },
   "source": [
    "## The algorithm"
   ]
  },
  {
   "cell_type": "markdown",
   "metadata": {},
   "source": [
    "Hereafter we present the algorithm, step by step:"
   ]
  },
  {
   "cell_type": "markdown",
   "metadata": {
    "slideshow": {
     "slide_type": "fragment"
    }
   },
   "source": [
    "* The dictionary got from the above processes is split into three lists, for efficient purposes: namely one with province `abbreviations`, one with `latitudes` and one with `longitudes`."
   ]
  },
  {
   "cell_type": "markdown",
   "metadata": {
    "slideshow": {
     "slide_type": "fragment"
    }
   },
   "source": [
    "* Lists are sorted by `latitude` or `longitude`, depending on their variances: \n",
    "    * if the `latitude` variance of all the nodes is greater than `longitude` one, `latitude` list is sorted and the `longitude` list follows;\n",
    "    * if the `longitude` variance of all the nodes is greater than `latitude` one, `longitude` list is sorted and the `latitude` list follows;\n",
    "    * **it is important to maintain the corrispondences amongst the three lists throughout the elaboration**."
   ]
  },
  {
   "cell_type": "markdown",
   "metadata": {
    "slideshow": {
     "slide_type": "fragment"
    }
   },
   "source": [
    "* Iteration is performed on the sorted list for city `i` and node is created;"
   ]
  },
  {
   "cell_type": "markdown",
   "metadata": {
    "slideshow": {
     "slide_type": "fragment"
    }
   },
   "source": [
    "* Another iteration is performed for node `j` starting from the following city: `j=i+1`;"
   ]
  },
  {
   "cell_type": "markdown",
   "metadata": {
    "slideshow": {
     "slide_type": "subslide"
    }
   },
   "source": [
    "* If the one-dimensionally distance between city `j` and city `i` is less or equal to 0.8 (0.08), the other dimension distance is checked: if also the latter one holds, the two nodes are connected and an edged is traced (with *Euclidean distance* as weight when requested)."
   ]
  },
  {
   "cell_type": "markdown",
   "metadata": {
    "slideshow": {
     "slide_type": "fragment"
    }
   },
   "source": [
    "* Iteration on `j` stops once a node `j` with distance from node `i` greater than 0.8 (0.08) is reached, as the following ones will necessarily have a greater distance."
   ]
  },
  {
   "cell_type": "markdown",
   "metadata": {
    "slideshow": {
     "slide_type": "fragment"
    }
   },
   "source": [
    "* New iteration is then started on `i = i + 1` moving forward the above steps."
   ]
  },
  {
   "cell_type": "markdown",
   "metadata": {
    "slideshow": {
     "slide_type": "fragment"
    }
   },
   "source": [
    "* The whole process stops once every city `i` is visited."
   ]
  },
  {
   "cell_type": "code",
   "execution_count": 6,
   "metadata": {
    "slideshow": {
     "slide_type": "skip"
    }
   },
   "outputs": [],
   "source": [
    "def graph(diz, distanza):\n",
    "    \n",
    "    '''Funzione che restituisce in tempo lineare un grafo quando le viene passata un dizionario ed una distanza per \n",
    "    impostare gli archi.\n",
    "    Il dizionario passato deve avere la sigla delle provincia come chiave e la tupla (latitudine, longitudine) come valori\n",
    "    corrispondenti. Se si intende lavorare con il file .json fornito dal dipartimento della Protezione Civile è\n",
    "    sufficiente pulire i dati con la funzione `data_cleaning(ls)`; se altrimenti si vuole procedere con una simulazione è\n",
    "    necessario ricorrere alla funzione `casual_data(n)`.\n",
    "    I vertici sono rappresentati dalle città e si traccia un arco tra di essi se ciò che segue è verificato: sia (x,y) la\n",
    "    posizione di a, allora b è in posizione (z,w), con z in [x-d, x+d] e w in [y-d, y+d], con d = distanza.'''\n",
    "    \n",
    "    nomi = list(diz.keys())\n",
    "    lat = [avalue[0] for avalue in diz.values()]\n",
    "    long = [avalue[1] for avalue in diz.values()]\n",
    "    \n",
    "    var_lat = np.var(lat)\n",
    "    var_long = np.var(long)\n",
    "    \n",
    "    G = nx.Graph()\n",
    "        \n",
    "    if var_lat > var_long:\n",
    "        tuples = zip(*sorted(zip(lat, nomi, long)))\n",
    "        lat, nomi, long = [list(tuple) for tuple in tuples]\n",
    "        edges = []\n",
    "        for i in range(len(nomi)):\n",
    "            nome_i = nomi[i]\n",
    "            G.add_node(nome_i, pos=(long[i], lat[i]))\n",
    "            j = i + 1\n",
    "            dist_lat = 0\n",
    "            while dist_lat <= distanza and j < len(nomi): \n",
    "                dist_lat = lat[j] - lat[i] # non prendo il valore assoluto perché è un valore già positivo\n",
    "                dist_long = abs(long[j] - long[i])\n",
    "                nome_j = nomi[j]\n",
    "                if dist_long <= distanza:\n",
    "                    edges.append((nome_i, nome_j))\n",
    "                j += 1\n",
    "    else:\n",
    "        tuples = zip(*sorted(zip(long, nomi, lat)))\n",
    "        long, nomi, lat = [list(tuple) for tuple in tuples]\n",
    "        edges = []\n",
    "        for i in range(len(nomi)):\n",
    "            nome_i = nomi[i]\n",
    "            G.add_node(nome_i, pos=(long[i], lat[i]))\n",
    "            j = i + 1\n",
    "            dist_long = 0\n",
    "            while dist_long <= distanza and j < len(nomi):\n",
    "                dist_long = long[j] - long[i] # non prendo il valore assoluto perché è un valore già positivo\n",
    "                dist_lat = abs(lat[j] - lat[i])\n",
    "                nome_j = nomi[j]\n",
    "                if dist_lat <= distanza:\n",
    "                    edges.append((nome_i, nome_j))\n",
    "                j += 1\n",
    "                           \n",
    "    G.add_edges_from(edges)            \n",
    "    return G"
   ]
  },
  {
   "cell_type": "code",
   "execution_count": 7,
   "metadata": {
    "slideshow": {
     "slide_type": "skip"
    }
   },
   "outputs": [],
   "source": [
    "def weighted_graph(diz, distanza):\n",
    "    \n",
    "    '''Funzione che restituisce in tempo lineare un grafo pesato quando le viene passata un dizionario ed una distanza per\n",
    "    impostare gli archi.\n",
    "    Il dizionario passato deve avere la sigla delle provincia come chiave e la tupla (latitudine, longitudine) come valori\n",
    "    corrispondenti. Se si intende lavorare con il file .json fornito dal dipartimento della Protezione Civile è\n",
    "    sufficiente pulire i dati con la funzione `data_cleaning(ls)`; se altrimenti si vuole procedere con una simulazione è\n",
    "    necessario ricorrere alla funzione `casual_data(n)`.\n",
    "    I vertici sono rappresentati dalle città e si traccia un arco tra di essi se ciò che segue è verificato: sia (x, y) la\n",
    "    posizione di a, allora b è in posizione (z,w), con z in [x-d, x+d] e w in [y-d, y+d], con d = distanza.'''\n",
    "    \n",
    "    nomi = list(diz.keys())\n",
    "    lat = [avalue[0] for avalue in diz.values()]\n",
    "    long = [avalue[1] for avalue in diz.values()]\n",
    "    \n",
    "    var_lat = np.var(lat)\n",
    "    var_long = np.var(long)\n",
    "    \n",
    "    G = nx.Graph()\n",
    "    \n",
    "    if var_lat > var_long:\n",
    "        tuples = zip(*sorted(zip(lat, nomi, long)))\n",
    "        lat, nomi, long = [list(tuple) for tuple in tuples]\n",
    "        edges = []\n",
    "        for i in range(len(nomi)):\n",
    "            nome_i = nomi[i]\n",
    "            G.add_node(nome_i, pos=(long[i], lat[i]))\n",
    "            j = i + 1\n",
    "            dist_lat = 0\n",
    "            while dist_lat <= distanza and j < len(nomi): \n",
    "                dist_lat = lat[j] - lat[i] # non prendo il valore assoluto perché è un valore già positivo\n",
    "                dist_long = abs(long[j] - long[i])\n",
    "                nome_j = nomi[j]\n",
    "                if dist_long <= distanza:\n",
    "                    Eucl_dist = (dist_lat ** 2 + dist_long ** 2) ** (1/2)\n",
    "                    edges.append((nome_i, nome_j, Eucl_dist))\n",
    "                j += 1\n",
    "    else:\n",
    "        tuples = zip(*sorted(zip(long, nomi, lat)))\n",
    "        long, nomi, lat = [list(tuple) for tuple in tuples]\n",
    "        edges = []\n",
    "        for i in range(len(nomi)):\n",
    "            nome_i = nomi[i]\n",
    "            G.add_node(nome_i, pos=(long[i], lat[i]))\n",
    "            j = i + 1\n",
    "            dist_long = 0\n",
    "            while dist_long <= distanza and j < len(nomi):\n",
    "                dist_long = long[j] - long[i] # non prendo il valore assoluto perché è un valore già positivo\n",
    "                dist_lat = abs(lat[j] - lat[i])\n",
    "                nome_j = nomi[j]\n",
    "                if dist_lat <= distanza:\n",
    "                    Eucl_dist = (dist_long ** 2 + dist_lat ** 2) ** (1/2)\n",
    "                    edges.append((nome_i, nome_j, Eucl_dist))\n",
    "                j += 1\n",
    "                           \n",
    "    G.add_weighted_edges_from(edges)            \n",
    "    return G"
   ]
  },
  {
   "cell_type": "markdown",
   "metadata": {
    "slideshow": {
     "slide_type": "subslide"
    }
   },
   "source": [
    "### <center> The Italian province graph P </center>"
   ]
  },
  {
   "cell_type": "code",
   "execution_count": 8,
   "metadata": {
    "slideshow": {
     "slide_type": "skip"
    }
   },
   "outputs": [],
   "source": [
    "dati_reali = data_cleaning(d)"
   ]
  },
  {
   "cell_type": "markdown",
   "metadata": {
    "slideshow": {
     "slide_type": "-"
    }
   },
   "source": [
    "![](img/italia.png)"
   ]
  },
  {
   "cell_type": "markdown",
   "metadata": {
    "slideshow": {
     "slide_type": "subslide"
    }
   },
   "source": [
    "### <center> The simulated province graph R </center>"
   ]
  },
  {
   "cell_type": "code",
   "execution_count": 9,
   "metadata": {
    "slideshow": {
     "slide_type": "skip"
    }
   },
   "outputs": [],
   "source": [
    "dati_casuali = data_generating(2000)"
   ]
  },
  {
   "cell_type": "markdown",
   "metadata": {
    "slideshow": {
     "slide_type": "-"
    }
   },
   "source": [
    "![](img/random.png)"
   ]
  },
  {
   "cell_type": "markdown",
   "metadata": {
    "slideshow": {
     "slide_type": "subslide"
    }
   },
   "source": [
    "## Time complexity analysis"
   ]
  },
  {
   "cell_type": "markdown",
   "metadata": {},
   "source": [
    "The algorithm implemented in the previous slide is the most efficient we have found for *sparse* graphs: it takes linear time because, when we iterate on a node and since there are few edges, not every other node is scanned. Time complexity is $O(|V|)$, where $|V|$ is the number of nodes.\n",
    "\n",
    "However, a sorting algorithm has been run whose its time complexity is $O(|V|\\log |V|)$.\n",
    "\n",
    "The expedient of computing the variance before deciding the dimension to be sorted guarantees the robustness of this method: if data had about the same values for a dimension, i.e. `longitude`, an eventual sorting by `longitude` would lead the algorithm to check each node with every node, and time complexity would be $O(V^2)$, the same as checking node by node with a two-nested for loop."
   ]
  },
  {
   "cell_type": "code",
   "execution_count": 10,
   "metadata": {
    "slideshow": {
     "slide_type": "skip"
    }
   },
   "outputs": [],
   "source": [
    "P = graph(dati_reali, 0.8)\n",
    "R = graph(dati_casuali, 0.08)"
   ]
  },
  {
   "cell_type": "code",
   "execution_count": 11,
   "metadata": {
    "slideshow": {
     "slide_type": "fragment"
    }
   },
   "outputs": [
    {
     "name": "stdout",
     "output_type": "stream",
     "text": [
      "2.01 ms ± 144 µs per loop (mean ± std. dev. of 7 runs, 100 loops each)\n",
      "21.9 ms ± 1.69 ms per loop (mean ± std. dev. of 7 runs, 10 loops each)\n"
     ]
    }
   ],
   "source": [
    "%timeit P = graph(dati_reali, 0.8)\n",
    "%timeit R = graph(dati_casuali, 0.08)"
   ]
  },
  {
   "cell_type": "markdown",
   "metadata": {
    "slideshow": {
     "slide_type": "slide"
    }
   },
   "source": [
    "# Eulerian Path"
   ]
  },
  {
   "cell_type": "markdown",
   "metadata": {},
   "source": [
    "In graph theory, an **Eulerian path** is a trail in a finite graph that visits every edge exactly once (allowing for revisiting vertices) and the graph is said to be *semi-Eulerian*. Similarly, an **Eulerian circuit** is an **Eulerian path** that starts and ends on the same vertex, and the graph is said to be *Eulerian*. \n",
    "\n",
    "They were first discussed by Leonhard Euler (1707-1783) while solving the famous Seven Bridges of Königsberg problem in 1736."
   ]
  },
  {
   "cell_type": "markdown",
   "metadata": {
    "slideshow": {
     "slide_type": "subslide"
    }
   },
   "source": [
    "## Seven Bridges of Königsberg"
   ]
  },
  {
   "cell_type": "markdown",
   "metadata": {},
   "source": [
    "In the 18th century, Königsberg in Prussia (now Kaliningrad, Russia), flowed through by the Pregel River and its tributaries, used to have two extensive islands that are connected to each other and to the two main areas of the city by seven bridges."
   ]
  },
  {
   "cell_type": "markdown",
   "metadata": {
    "slideshow": {
     "slide_type": "fragment"
    }
   },
   "source": [
    "![](img\\seven_bridges.png)"
   ]
  },
  {
   "cell_type": "markdown",
   "metadata": {
    "slideshow": {
     "slide_type": "fragment"
    }
   },
   "source": [
    "An urban legend says that, on Sundays, the wealthy citizens of Königsberg used to walk around their city trying in vain to follow a path that crosses each bridge once and only once."
   ]
  },
  {
   "cell_type": "markdown",
   "metadata": {
    "slideshow": {
     "slide_type": "subslide"
    }
   },
   "source": [
    "### Euler's approach"
   ]
  },
  {
   "cell_type": "markdown",
   "metadata": {
    "slideshow": {
     "slide_type": "-"
    }
   },
   "source": [
    "The resolution of the problem was entrusted to the best living mathematician Leonard Euler, who showed that the hypothesized walk was not possible."
   ]
  },
  {
   "cell_type": "markdown",
   "metadata": {
    "slideshow": {
     "slide_type": "fragment"
    }
   },
   "source": [
    "* **Abstraction of the map** --- by removing all the contingent aspects with the exception of urban areas delimited by the river arms and bridges that connect them."
   ]
  },
  {
   "cell_type": "markdown",
   "metadata": {
    "slideshow": {
     "slide_type": "fragment"
    }
   },
   "source": [
    "![](img/7_bridges.png)"
   ]
  },
  {
   "cell_type": "markdown",
   "metadata": {
    "slideshow": {
     "slide_type": "subslide"
    }
   },
   "source": [
    "* **Modelling as a graph** --- by replacing each urban area with a point, now called `vertex`, and each bridge with a segment, called `edge`, inventing the modern graph theory."
   ]
  },
  {
   "cell_type": "markdown",
   "metadata": {
    "slideshow": {
     "slide_type": "fragment"
    }
   },
   "source": [
    "![](img/Grafo_ABCD.png)"
   ]
  },
  {
   "cell_type": "markdown",
   "metadata": {
    "slideshow": {
     "slide_type": "subslide"
    }
   },
   "source": [
    "* **Attributing a number to each node** --- by computing how many edges a vertex is touched by, called `degree`."
   ]
  },
  {
   "cell_type": "markdown",
   "metadata": {
    "slideshow": {
     "slide_type": "fragment"
    }
   },
   "source": [
    "![](img/vertex-degrees.png)"
   ]
  },
  {
   "cell_type": "markdown",
   "metadata": {
    "slideshow": {
     "slide_type": "subslide"
    }
   },
   "source": [
    "### Euler's theorem and solution"
   ]
  },
  {
   "cell_type": "markdown",
   "metadata": {
    "slideshow": {
     "slide_type": "-"
    }
   },
   "source": [
    "Before reaching a conclusion, Euler hypothesized different situations of zones and bridges: with four nodes and four bridges it is possible to start, for example, from A, and to go back through all the bridges once and only once. The degree of each node is an even number. If instead we start from A to get to D, each node is of equal degree with the exception of two nodes, of odd degree (1). Based on these observations, Euler enunciated the following theorem:\n",
    "> *Any connected graph is walkable if and only if it has all the nodes of even degree (**Eulerian circuit**), or two of them are of odd degree (**Eulerian path**); to traverse a \"possible\" graph with two nodes of odd degree, it is necessary to start from one of them, and it will end on the other odd node.*"
   ]
  },
  {
   "cell_type": "markdown",
   "metadata": {
    "slideshow": {
     "slide_type": "fragment"
    }
   },
   "source": [
    "* **Eulerian path**: two nodes of odd degree and all the other ones of even degree."
   ]
  },
  {
   "cell_type": "markdown",
   "metadata": {
    "slideshow": {
     "slide_type": "fragment"
    }
   },
   "source": [
    "* **Eulerian circuit**: every node of even degree."
   ]
  },
  {
   "cell_type": "markdown",
   "metadata": {
    "slideshow": {
     "slide_type": "subslide"
    }
   },
   "source": [
    "Hence, the *Seven Bridges of Königsberg* problem has no solution, because every node has an odd degree.\n",
    "\n"
   ]
  },
  {
   "cell_type": "markdown",
   "metadata": {
    "slideshow": {
     "slide_type": "subslide"
    }
   },
   "source": [
    "## Fleury's algorithm"
   ]
  },
  {
   "cell_type": "markdown",
   "metadata": {},
   "source": [
    "**Fleury's algorithm** (1883) is an elegant but inefficient algorithm that construct **Eulerian paths** and **Eulerian circuits**."
   ]
  },
  {
   "cell_type": "markdown",
   "metadata": {
    "slideshow": {
     "slide_type": "subslide"
    }
   },
   "source": [
    "Here we present the algorithm, step by step:"
   ]
  },
  {
   "cell_type": "markdown",
   "metadata": {
    "slideshow": {
     "slide_type": "fragment"
    }
   },
   "source": [
    "* A graph is checked to have all edges in the same component and all nodes of even degree or exactly two of them of odd degree. "
   ]
  },
  {
   "cell_type": "markdown",
   "metadata": {
    "slideshow": {
     "slide_type": "fragment"
    }
   },
   "source": [
    "* The algorithm starts at a vertex of odd degree, or, if the graph has none, it starts with an arbitrarily chosen vertex. \n"
   ]
  },
  {
   "cell_type": "markdown",
   "metadata": {
    "slideshow": {
     "slide_type": "fragment"
    }
   },
   "source": [
    "* An edge whose removal would not disconnect the graph, called `bridge`, is chosen."
   ]
  },
  {
   "cell_type": "markdown",
   "metadata": {
    "slideshow": {
     "slide_type": "fragment"
    }
   },
   "source": [
    "* To detect a `bridge`, we set up an ancillary algorithm that uses `DFS`:\n",
    "    * let *G* be the graph and (*u*, *v*) the interested edge;\n",
    "    * let *i* be the number of nodes reachable in *G* starting from *u*;\n",
    "    * let us remove edge (*u*, *v*): a new graph *G'* is obtained;\n",
    "    * let *j* be the number of nodes reachable in *G'* starting from *u*;\n",
    "    * if *i* = *j* or *j* = 0, then edge(*u*, *v*) is not a `bridge`;\n",
    "    * otherwise, edge(*u*, *v*) is a `bridge`."
   ]
  },
  {
   "cell_type": "markdown",
   "metadata": {
    "slideshow": {
     "slide_type": "fragment"
    }
   },
   "source": [
    "* The process move on to the other endpoint of that edge and deletes the edge."
   ]
  },
  {
   "cell_type": "markdown",
   "metadata": {
    "slideshow": {
     "slide_type": "subslide"
    }
   },
   "source": [
    "* The above steps are repeated until the algorithm stops once there are no edges left, and the sequence forms an **Eulerian cycle** if the starting point is the same as the ending point, or an **Eulerian path** if the starting point is different from the ending point."
   ]
  },
  {
   "cell_type": "code",
   "execution_count": 12,
   "metadata": {
    "slideshow": {
     "slide_type": "skip"
    }
   },
   "outputs": [],
   "source": [
    "def eulerian_path(G):\n",
    "    \n",
    "    \"\"\"Funzione che prende in input un grafo e che stabilisce, in primis, se questo è Euleriano, e, se questo è verificato, \n",
    "    ritorna il cammino euleriano.\n",
    "    La funzione è implementata secondo l'algoritmo di Fleury.\"\"\"\n",
    "    \n",
    "    CC = list(nx.connected_components(G))\n",
    "    CC_count = 0\n",
    "    for c in CC:\n",
    "        if len(c) != 1:\n",
    "            CC_count += 1\n",
    "    if CC_count != 1:\n",
    "        return 'This graph is not Eulerian nor semi-Eulerian.'\n",
    "    \n",
    "    edges = G.edges\n",
    "    degree = G.degree    \n",
    "    nodes = list(G.nodes)\n",
    "    \n",
    "    odd_degree_nodes = 0\n",
    "    odd_list = []\n",
    "    for anode in nodes:\n",
    "        if degree[anode] % 2 != 0:\n",
    "            odd_degree_nodes += 1\n",
    "            odd_list.append(anode)\n",
    "            \n",
    "    edge_path = []\n",
    "    if odd_degree_nodes == 2:\n",
    "        next_node = odd_list[random.randint(0, len(odd_list)-1)]\n",
    "        while edges:\n",
    "            current_node = next_node\n",
    "            node_edges = list(edges(current_node))\n",
    "            arandom = random.randint(0, len(node_edges)-1)\n",
    "            edge = node_edges[arandom]\n",
    "            if not is_bridge(edge, G):\n",
    "                edge_path.append(current_node)\n",
    "                next_node = edge[1]\n",
    "                G.remove_edge(*edge)\n",
    "        edge_path.append(next_node)\n",
    "        return edge_path\n",
    "      \n",
    "    elif odd_degree_nodes == 0:\n",
    "        next_node = nodes[random.randint(0, len(nodes)-1)]\n",
    "        while edges:\n",
    "            current_node = next_node\n",
    "            node_edges = list(edges(current_node))\n",
    "            arandom = random.randint(0, len(node_edges)-1)\n",
    "            edge = node_edges[arandom]\n",
    "            if not is_bridge(edge, G):\n",
    "                edge_path.append(current_node)\n",
    "                next_node = edge[1]\n",
    "                G.remove_edge(*edge)\n",
    "        edge_path.append(next_node)\n",
    "        return edge_path\n",
    "    \n",
    "    else:\n",
    "        return 'This graph is not Eulerian nor semi-Eulerian.'\n",
    "    \n",
    "def is_bridge(edge, G):\n",
    "    \n",
    "    \"\"\"Funzione ausiliaria all'algoritmo di Fleury che stabilisce se un arco è un ponte oppure no. Prende in input l'arco\n",
    "    stesso ed il grafo interessato.\"\"\"\n",
    "    \n",
    "    H = G.copy()\n",
    "    next_node = edge[0]\n",
    "    i = dfs(next_node, H) - 1\n",
    "    H.remove_edge(*edge)\n",
    "    j = dfs(next_node, H) - 1\n",
    "    if i == j or j == 0:\n",
    "        return False\n",
    "    return True\n",
    "\n",
    "def dfs(next_node, G):\n",
    "    \n",
    "    '''Funzione di Depth First Search (DFS).'''\n",
    "    \n",
    "    nodes = list(G.nodes())\n",
    "    colors = {anode: 'white' for anode in nodes}\n",
    "    return visit(next_node, colors, G)\n",
    "\n",
    "def visit(current, colors, G, count=0):\n",
    "    \n",
    "    '''Funzione ausiliara alla DFS.'''\n",
    "    \n",
    "    count += 1\n",
    "    colors[current] = 'grey'\n",
    "    adj = list(G.adj[current])\n",
    "    for anode in adj:\n",
    "        if colors[anode] == 'white':\n",
    "            count = visit(anode, colors, G, count)\n",
    "    return count"
   ]
  },
  {
   "cell_type": "markdown",
   "metadata": {
    "slideshow": {
     "slide_type": "subslide"
    }
   },
   "source": [
    "### Applications"
   ]
  },
  {
   "cell_type": "markdown",
   "metadata": {},
   "source": [
    "Our algorithm cannot be applied to our `P` and `R` graphs, as, firstly, they are not connected graphs."
   ]
  },
  {
   "cell_type": "code",
   "execution_count": 13,
   "metadata": {
    "slideshow": {
     "slide_type": "fragment"
    }
   },
   "outputs": [
    {
     "data": {
      "text/plain": [
       "'This graph is not Eulerian nor semi-Eulerian.'"
      ]
     },
     "execution_count": 13,
     "metadata": {},
     "output_type": "execute_result"
    }
   ],
   "source": [
    "P = graph(dati_reali, 0.8)\n",
    "eulerian_path(P)"
   ]
  },
  {
   "cell_type": "code",
   "execution_count": 14,
   "metadata": {
    "slideshow": {
     "slide_type": "fragment"
    }
   },
   "outputs": [
    {
     "data": {
      "text/plain": [
       "'This graph is not Eulerian nor semi-Eulerian.'"
      ]
     },
     "execution_count": 14,
     "metadata": {},
     "output_type": "execute_result"
    }
   ],
   "source": [
    "R = graph(dati_casuali, 0.08)\n",
    "eulerian_path(R)"
   ]
  },
  {
   "cell_type": "markdown",
   "metadata": {
    "slideshow": {
     "slide_type": "subslide"
    }
   },
   "source": [
    "#### Eulerian path"
   ]
  },
  {
   "cell_type": "markdown",
   "metadata": {},
   "source": [
    "Let's create an Eulerian graph as example, with exactly two odd nodes."
   ]
  },
  {
   "cell_type": "code",
   "execution_count": 15,
   "metadata": {
    "slideshow": {
     "slide_type": "fragment"
    }
   },
   "outputs": [
    {
     "data": {
      "image/png": "[encoded data removed]",
      "text/plain": [
       "<Figure size 432x288 with 1 Axes>"
      ]
     },
     "metadata": {},
     "output_type": "display_data"
    }
   ],
   "source": [
    "K = nx.Graph()\n",
    "K.add_nodes_from([0, 1, 2, 3, 4, 5])\n",
    "K.add_edges_from([(0, 1), (0, 5), (1, 2), (1, 4), (2, 3), (2, 4), (2, 5), (3, 4)])\n",
    "nx.draw_shell(K, with_labels=True)"
   ]
  },
  {
   "cell_type": "markdown",
   "metadata": {
    "slideshow": {
     "slide_type": "subslide"
    }
   },
   "source": [
    "Let's start our algorithm from an odd vertex, i.e. *1*, and let's remove edge (*1*, *4*), which is not a *bridge*."
   ]
  },
  {
   "cell_type": "code",
   "execution_count": 16,
   "metadata": {
    "slideshow": {
     "slide_type": "fragment"
    }
   },
   "outputs": [
    {
     "data": {
      "image/png": "[encoded data removed]",
      "text/plain": [
       "<Figure size 432x288 with 1 Axes>"
      ]
     },
     "metadata": {},
     "output_type": "display_data"
    }
   ],
   "source": [
    "K.remove_edge(*(1, 4))\n",
    "nx.draw_shell(K, with_labels=True)"
   ]
  },
  {
   "cell_type": "code",
   "execution_count": 17,
   "metadata": {
    "slideshow": {
     "slide_type": "subslide"
    }
   },
   "outputs": [
    {
     "data": {
      "image/png": "[encoded data removed]",
      "text/plain": [
       "<Figure size 432x288 with 1 Axes>"
      ]
     },
     "metadata": {},
     "output_type": "display_data"
    }
   ],
   "source": [
    "K.remove_edge(*(4, 3))\n",
    "nx.draw_shell(K, with_labels=True)"
   ]
  },
  {
   "cell_type": "code",
   "execution_count": 18,
   "metadata": {
    "slideshow": {
     "slide_type": "subslide"
    }
   },
   "outputs": [
    {
     "data": {
      "image/png": "[encoded data removed]",
      "text/plain": [
       "<Figure size 432x288 with 1 Axes>"
      ]
     },
     "metadata": {},
     "output_type": "display_data"
    }
   ],
   "source": [
    "K.remove_edge(*(3, 2))\n",
    "nx.draw_shell(K, with_labels=True)"
   ]
  },
  {
   "cell_type": "markdown",
   "metadata": {
    "slideshow": {
     "slide_type": "subslide"
    }
   },
   "source": [
    "At this point, we should be careful. If we choose edge (*2*, *4*), we would get stuck in *4* and we would not be able to visit the other nodes. Edge (*2*, *4*) is so a *bridge*.\n",
    "\n",
    "We then move on vertex *5*."
   ]
  },
  {
   "cell_type": "code",
   "execution_count": 19,
   "metadata": {
    "slideshow": {
     "slide_type": "fragment"
    }
   },
   "outputs": [
    {
     "data": {
      "image/png": "[encoded data removed]",
      "text/plain": [
       "<Figure size 432x288 with 1 Axes>"
      ]
     },
     "metadata": {},
     "output_type": "display_data"
    }
   ],
   "source": [
    "K.remove_edge(*(2, 5))\n",
    "nx.draw_shell(K, with_labels=True)"
   ]
  },
  {
   "cell_type": "code",
   "execution_count": 20,
   "metadata": {
    "slideshow": {
     "slide_type": "subslide"
    }
   },
   "outputs": [
    {
     "data": {
      "image/png": "[encoded data removed]",
      "text/plain": [
       "<Figure size 432x288 with 1 Axes>"
      ]
     },
     "metadata": {},
     "output_type": "display_data"
    }
   ],
   "source": [
    "K.remove_edge(*(5, 0))\n",
    "nx.draw_shell(K, with_labels=True)"
   ]
  },
  {
   "cell_type": "code",
   "execution_count": 21,
   "metadata": {
    "slideshow": {
     "slide_type": "subslide"
    }
   },
   "outputs": [
    {
     "data": {
      "image/png": "[encoded data removed]",
      "text/plain": [
       "<Figure size 432x288 with 1 Axes>"
      ]
     },
     "metadata": {},
     "output_type": "display_data"
    }
   ],
   "source": [
    "K.remove_edge(*(0, 1))\n",
    "nx.draw_shell(K, with_labels=True)"
   ]
  },
  {
   "cell_type": "code",
   "execution_count": 22,
   "metadata": {
    "slideshow": {
     "slide_type": "subslide"
    }
   },
   "outputs": [
    {
     "data": {
      "image/png": "[encoded data removed]",
      "text/plain": [
       "<Figure size 432x288 with 1 Axes>"
      ]
     },
     "metadata": {},
     "output_type": "display_data"
    }
   ],
   "source": [
    "K.remove_edge(*(1, 2))\n",
    "nx.draw_shell(K, with_labels=True)"
   ]
  },
  {
   "cell_type": "code",
   "execution_count": 23,
   "metadata": {
    "slideshow": {
     "slide_type": "subslide"
    }
   },
   "outputs": [
    {
     "data": {
      "image/png": "[encoded data removed]",
      "text/plain": [
       "<Figure size 432x288 with 1 Axes>"
      ]
     },
     "metadata": {},
     "output_type": "display_data"
    }
   ],
   "source": [
    "K.remove_edge(*(2, 4))\n",
    "nx.draw_shell(K, with_labels=True)"
   ]
  },
  {
   "cell_type": "markdown",
   "metadata": {
    "slideshow": {
     "slide_type": "fragment"
    }
   },
   "source": [
    "The process is complete and we got an **Eulerian path** $[1, 4, 3, 2, 5, 0, 1, 2, 4]$ "
   ]
  },
  {
   "cell_type": "code",
   "execution_count": 24,
   "metadata": {
    "scrolled": true,
    "slideshow": {
     "slide_type": "subslide"
    }
   },
   "outputs": [
    {
     "data": {
      "text/plain": [
       "[1, 4, 3, 2, 5, 0, 1, 2, 4]"
      ]
     },
     "execution_count": 24,
     "metadata": {},
     "output_type": "execute_result"
    },
    {
     "data": {
      "image/png": "[encoded data removed]",
      "text/plain": [
       "<Figure size 432x288 with 1 Axes>"
      ]
     },
     "metadata": {},
     "output_type": "display_data"
    }
   ],
   "source": [
    "K = nx.Graph()\n",
    "K.add_nodes_from([0, 1, 2, 3, 4, 5])\n",
    "K.add_edges_from([(0, 1), (0, 5), (1, 2), (1, 4), (2, 3), (2, 4), (2, 5), (3, 4)])\n",
    "nx.draw_shell(K, with_labels=True)\n",
    "eulerian_path(K)"
   ]
  },
  {
   "cell_type": "markdown",
   "metadata": {
    "slideshow": {
     "slide_type": "subslide"
    }
   },
   "source": [
    "#### Eulerian circuit: *House of St. Niklas*"
   ]
  },
  {
   "cell_type": "markdown",
   "metadata": {},
   "source": [
    "Let's now see a graph that has an **Eulerian circuit**."
   ]
  },
  {
   "cell_type": "code",
   "execution_count": 25,
   "metadata": {
    "slideshow": {
     "slide_type": "fragment"
    }
   },
   "outputs": [
    {
     "data": {
      "image/png": "[encoded data removed]",
      "text/plain": [
       "<Figure size 432x288 with 1 Axes>"
      ]
     },
     "metadata": {},
     "output_type": "display_data"
    }
   ],
   "source": [
    "Q = nx.Graph()\n",
    "Q.add_nodes_from([0, 1, 2, 3, 4, 5])\n",
    "Q.add_edges_from([(0, 1), (0, 3), (1, 2), (1, 3), (1, 4), (2, 4), (3, 4), (3, 5), (4, 5)])\n",
    "pos = {0: (0, 0), 1: (0.5, 0), 2: (1, 0), 3: (0, 4), 4: (1, 4), 5: (0.5, 8)}\n",
    "nx.draw(Q, pos=pos, with_labels=True)"
   ]
  },
  {
   "cell_type": "markdown",
   "metadata": {
    "slideshow": {
     "slide_type": "subslide"
    }
   },
   "source": [
    "In this case, we can choose any vertex as starting point, since all the nodes are of even degree: we would never get stuck."
   ]
  },
  {
   "cell_type": "code",
   "execution_count": 26,
   "metadata": {
    "slideshow": {
     "slide_type": "fragment"
    }
   },
   "outputs": [
    {
     "data": {
      "image/png": "[encoded data removed]",
      "text/plain": [
       "<Figure size 432x288 with 1 Axes>"
      ]
     },
     "metadata": {},
     "output_type": "display_data"
    }
   ],
   "source": [
    "Q.remove_edge(*(0, 1))\n",
    "nx.draw(Q, pos=pos, with_labels=True)"
   ]
  },
  {
   "cell_type": "code",
   "execution_count": 27,
   "metadata": {
    "slideshow": {
     "slide_type": "subslide"
    }
   },
   "outputs": [
    {
     "data": {
      "image/png": "[encoded data removed]",
      "text/plain": [
       "<Figure size 432x288 with 1 Axes>"
      ]
     },
     "metadata": {},
     "output_type": "display_data"
    }
   ],
   "source": [
    "Q.remove_edge(*(1, 2))\n",
    "nx.draw(Q, pos=pos, with_labels=True)"
   ]
  },
  {
   "cell_type": "code",
   "execution_count": 28,
   "metadata": {
    "slideshow": {
     "slide_type": "subslide"
    }
   },
   "outputs": [
    {
     "data": {
      "image/png": "[encoded data removed]",
      "text/plain": [
       "<Figure size 432x288 with 1 Axes>"
      ]
     },
     "metadata": {},
     "output_type": "display_data"
    }
   ],
   "source": [
    "Q.remove_edge(*(2, 4))\n",
    "nx.draw(Q, pos=pos, with_labels=True)"
   ]
  },
  {
   "cell_type": "code",
   "execution_count": 29,
   "metadata": {
    "slideshow": {
     "slide_type": "subslide"
    }
   },
   "outputs": [
    {
     "data": {
      "image/png": "[encoded data removed]",
      "text/plain": [
       "<Figure size 432x288 with 1 Axes>"
      ]
     },
     "metadata": {},
     "output_type": "display_data"
    }
   ],
   "source": [
    "Q.remove_edge(*(4, 1))\n",
    "nx.draw(Q, pos=pos, with_labels=True)"
   ]
  },
  {
   "cell_type": "code",
   "execution_count": 30,
   "metadata": {
    "slideshow": {
     "slide_type": "subslide"
    }
   },
   "outputs": [
    {
     "data": {
      "image/png": "[encoded data removed]",
      "text/plain": [
       "<Figure size 432x288 with 1 Axes>"
      ]
     },
     "metadata": {},
     "output_type": "display_data"
    }
   ],
   "source": [
    "Q.remove_edge(*(1, 3))\n",
    "nx.draw(Q, pos=pos, with_labels=True)"
   ]
  },
  {
   "cell_type": "code",
   "execution_count": 31,
   "metadata": {
    "slideshow": {
     "slide_type": "subslide"
    }
   },
   "outputs": [
    {
     "data": {
      "image/png": "[encoded data removed]",
      "text/plain": [
       "<Figure size 432x288 with 1 Axes>"
      ]
     },
     "metadata": {},
     "output_type": "display_data"
    }
   ],
   "source": [
    "Q.remove_edge(*(3, 4))\n",
    "nx.draw(Q, pos=pos, with_labels=True)"
   ]
  },
  {
   "cell_type": "code",
   "execution_count": 32,
   "metadata": {
    "slideshow": {
     "slide_type": "subslide"
    }
   },
   "outputs": [
    {
     "data": {
      "image/png": "[encoded data removed]",
      "text/plain": [
       "<Figure size 432x288 with 1 Axes>"
      ]
     },
     "metadata": {},
     "output_type": "display_data"
    }
   ],
   "source": [
    "Q.remove_edge(*(4, 5))\n",
    "nx.draw(Q, pos=pos, with_labels=True)"
   ]
  },
  {
   "cell_type": "code",
   "execution_count": 33,
   "metadata": {
    "slideshow": {
     "slide_type": "subslide"
    }
   },
   "outputs": [
    {
     "data": {
      "image/png": "[encoded data removed]",
      "text/plain": [
       "<Figure size 432x288 with 1 Axes>"
      ]
     },
     "metadata": {},
     "output_type": "display_data"
    }
   ],
   "source": [
    "Q.remove_edge(*(5, 3))\n",
    "nx.draw(Q, pos=pos, with_labels=True)"
   ]
  },
  {
   "cell_type": "code",
   "execution_count": 34,
   "metadata": {
    "slideshow": {
     "slide_type": "subslide"
    }
   },
   "outputs": [
    {
     "data": {
      "image/png": "[encoded data removed]",
      "text/plain": [
       "<Figure size 432x288 with 1 Axes>"
      ]
     },
     "metadata": {},
     "output_type": "display_data"
    }
   ],
   "source": [
    "Q.remove_edge(*(3, 0))\n",
    "nx.draw(Q, pos=pos, with_labels=True)"
   ]
  },
  {
   "cell_type": "markdown",
   "metadata": {
    "slideshow": {
     "slide_type": "fragment"
    }
   },
   "source": [
    "The process is complete and we got an **Eulerian circuit** $[0, 1, 2, 4, 1, 3, 4, 5, 3, 0]$ "
   ]
  },
  {
   "cell_type": "code",
   "execution_count": 35,
   "metadata": {
    "slideshow": {
     "slide_type": "subslide"
    }
   },
   "outputs": [
    {
     "data": {
      "text/plain": [
       "[0, 1, 4, 2, 1, 3, 5, 4, 3, 0]"
      ]
     },
     "execution_count": 35,
     "metadata": {},
     "output_type": "execute_result"
    },
    {
     "data": {
      "image/png": "[encoded data removed]",
      "text/plain": [
       "<Figure size 432x288 with 1 Axes>"
      ]
     },
     "metadata": {},
     "output_type": "display_data"
    }
   ],
   "source": [
    "Q = nx.Graph()\n",
    "Q.add_nodes_from([0, 1, 2, 3, 4, 5])\n",
    "Q.add_edges_from([(0, 1), (0, 3), (1, 2), (1, 3), (1, 4), (2, 4), (3, 4), (3, 5), (4, 5)])\n",
    "pos = {0: (0, 0), 1: (0.5, 0), 2: (1, 0), 3: (0, 4), 4: (1, 4), 5: (0.5, 8)}\n",
    "nx.draw(Q, pos=pos, with_labels=True)\n",
    "eulerian_path(Q)"
   ]
  },
  {
   "cell_type": "markdown",
   "metadata": {
    "slideshow": {
     "slide_type": "subslide"
    }
   },
   "source": [
    "### Time complexity analysis"
   ]
  },
  {
   "cell_type": "markdown",
   "metadata": {},
   "source": [
    "While the graph traversal in **Fleury's algorithm** is linear in the number of edges, i.e. $O(|E|)$, an algorithm for detecting *bridges* has to be taken into account: this is linear in the number of edges as well, since a `DFS` is run.\n",
    "\n",
    "**Fleury's algorithm** will then have a time complexity of $O(|E|^2)$."
   ]
  },
  {
   "cell_type": "markdown",
   "metadata": {
    "slideshow": {
     "slide_type": "slide"
    }
   },
   "source": [
    "# Centrality"
   ]
  },
  {
   "cell_type": "markdown",
   "metadata": {},
   "source": [
    "In graph theory, indicators of **centrality** identify the most important vertices within a graph.\n",
    "\n",
    "**Centrality** indices are answers to the question \"What characterizes an important vertex?\". The answer is given in terms of a real-valued function on the vertices of a graph, where the values produced are expected to provide a ranking which identifies the most important nodes."
   ]
  },
  {
   "cell_type": "markdown",
   "metadata": {
    "slideshow": {
     "slide_type": "subslide"
    }
   },
   "source": [
    "## Degree centrality"
   ]
  },
  {
   "cell_type": "markdown",
   "metadata": {},
   "source": [
    "Historically first and conceptually simplest meausure of centrality is **degree centrality**, which is defined as the number of links incident upon a node (i.e., the number of edges leaving a vertex)."
   ]
  },
  {
   "cell_type": "markdown",
   "metadata": {
    "slideshow": {
     "slide_type": "fragment"
    }
   },
   "source": [
    "A related index is the **degree distribution** that is the probability distribution of these degrees over the whole network."
   ]
  },
  {
   "cell_type": "markdown",
   "metadata": {
    "slideshow": {
     "slide_type": "subslide"
    }
   },
   "source": [
    "### Degree distribution"
   ]
  },
  {
   "cell_type": "markdown",
   "metadata": {},
   "source": [
    "The **degree distribution** $P(d)$ of a graph is then defined to be the fraction of nodes in the network with degree $d$. Thus if there are $V$ nodes in total in a graph and $n_k$ of them have degree $d$, we have $P(d)$ = $n_d/V$."
   ]
  },
  {
   "cell_type": "code",
   "execution_count": 36,
   "metadata": {
    "slideshow": {
     "slide_type": "skip"
    }
   },
   "outputs": [],
   "source": [
    "def degree_distribution(G):\n",
    "    \n",
    "    '''Funzione che prende in input un grafo e ritorna un vocabolario che ha come chiavi i gradi e come valori le\n",
    "    frequenze.'''\n",
    "    \n",
    "    degree = dict(G.degree)\n",
    "    degree_list = list(degree.values())\n",
    "    degree_voc = {adegree: None for adegree in degree_list} # faccio un vocabolario in modo da eliminare tutti i doppioni (mi costa O(n))\n",
    "    degree_list_ = [adegree for adegree in degree_voc] # riconverto tutto in lista\n",
    "    degree_list_.sort() # ordino la lista (mi costa(O(n*log(n)))\n",
    "    n = len(degree)\n",
    "    freq = [0]*(max(degree_list_)+1)\n",
    "    for i in degree_list:\n",
    "        freq[i] = freq[i] + 1\n",
    "    distr_dict = {}\n",
    "    for i in degree_list_:\n",
    "        distr_dict[i] = freq[i] / n\n",
    "    return distr_dict\n",
    "\n",
    "def freq(G, k):\n",
    "    \n",
    "    '''Funzione che prende in input un grafo ed un grado e ritorna la rispettiva frequenza'''\n",
    "    \n",
    "    return degree_distribution(G).get(k)"
   ]
  },
  {
   "cell_type": "code",
   "execution_count": 37,
   "metadata": {
    "slideshow": {
     "slide_type": "subslide"
    }
   },
   "outputs": [
    {
     "data": {
      "text/plain": [
       "{0: 0.009345794392523364,\n",
       " 1: 0.028037383177570093,\n",
       " 2: 0.09345794392523364,\n",
       " 3: 0.06542056074766354,\n",
       " 4: 0.11214953271028037,\n",
       " 5: 0.12149532710280374,\n",
       " 6: 0.12149532710280374,\n",
       " 7: 0.12149532710280374,\n",
       " 8: 0.07476635514018691,\n",
       " 9: 0.07476635514018691,\n",
       " 10: 0.07476635514018691,\n",
       " 11: 0.028037383177570093,\n",
       " 12: 0.037383177570093455,\n",
       " 13: 0.009345794392523364,\n",
       " 14: 0.028037383177570093}"
      ]
     },
     "execution_count": 37,
     "metadata": {},
     "output_type": "execute_result"
    }
   ],
   "source": [
    "degree_distribution(P)"
   ]
  },
  {
   "cell_type": "markdown",
   "metadata": {
    "slideshow": {
     "slide_type": "fragment"
    }
   },
   "source": [
    "![](img/degree_distribution_P.png)"
   ]
  },
  {
   "cell_type": "code",
   "execution_count": 38,
   "metadata": {
    "slideshow": {
     "slide_type": "subslide"
    }
   },
   "outputs": [
    {
     "data": {
      "text/plain": [
       "{0: 0.751, 1: 0.2175, 2: 0.031, 3: 0.0005}"
      ]
     },
     "execution_count": 38,
     "metadata": {},
     "output_type": "execute_result"
    }
   ],
   "source": [
    "degree_distribution(R)"
   ]
  },
  {
   "cell_type": "markdown",
   "metadata": {
    "slideshow": {
     "slide_type": "fragment"
    }
   },
   "source": [
    "![](img/degree_distribution_R.png)"
   ]
  },
  {
   "cell_type": "markdown",
   "metadata": {
    "slideshow": {
     "slide_type": "subslide"
    }
   },
   "source": [
    "### Power Law\n",
    "\n",
    "In social network, it seems that the degree distribution $P(d)$ follows a power law: $P(d)$ ∝ $\\frac{1}{d^γ}$, for some constant $γ$, typically $1 ≤ γ ≤ 3$."
   ]
  },
  {
   "cell_type": "markdown",
   "metadata": {
    "slideshow": {
     "slide_type": "fragment"
    }
   },
   "source": [
    "![](img/power_law.png)"
   ]
  },
  {
   "cell_type": "markdown",
   "metadata": {
    "slideshow": {
     "slide_type": "subslide"
    }
   },
   "source": [
    "#### Power Law Exponent estimation"
   ]
  },
  {
   "cell_type": "markdown",
   "metadata": {
    "slideshow": {
     "slide_type": "-"
    }
   },
   "source": [
    "We would like to estimate the exponent $γ$ for our two graphs `P` and `R`."
   ]
  },
  {
   "cell_type": "markdown",
   "metadata": {
    "slideshow": {
     "slide_type": "fragment"
    }
   },
   "source": [
    "There are many ways of estimating the value the **power law exponent**. We will used one based on the method of maximum likelihood."
   ]
  },
  {
   "cell_type": "markdown",
   "metadata": {
    "slideshow": {
     "slide_type": "fragment"
    }
   },
   "source": [
    "Clauset et al. (2009) proposed the MLE for a discrete dataset, much more complicated than the continuos case, showing that the appropriate estimator for $α$ is given by the solution to the transcendental equation $\\frac{ζ′(\\hat{α}, x_{min})}{ζ(\\hat{α}, x_{min})} = -\\frac{1}{n}\\sum_{i=1}^n \\ln x_i$. In practice, evaluation of $\\hat{α}$ requires us to solve this equation numerically. Alternatively, one can estimate $α$ by direct numerical maximization of the likelihood function itself, or equivalently of its logarithm (which is usually simpler): $L(α) = −n \\ln ζ(α, x_{min}) − α\\sum_{i=1}^n\\ln x_i$,\n",
    "\n",
    "where $ζ(α, x_{min}) = \\sum_{n=0}^\\infty(n + x_min)^{-α} $"
   ]
  },
  {
   "cell_type": "markdown",
   "metadata": {
    "slideshow": {
     "slide_type": "subslide"
    }
   },
   "source": [
    "We then fix an $x_{min}$, greater than $0$, we calculate each likelihood score for any $α$ in $[1.06, 7.00]$ and we finally take the $α$ which has release the maximum score."
   ]
  },
  {
   "cell_type": "code",
   "execution_count": 39,
   "metadata": {
    "slideshow": {
     "slide_type": "skip"
    }
   },
   "outputs": [],
   "source": [
    "def exponent_power_law(G, xmin=1):\n",
    "    \n",
    "    \"\"\"Funzione che prende in input un grafo ed un x minimo (grado minimo da cui si vuole partire per la stima) e ritorna\n",
    "    una stima dell'esponente della power law.\n",
    "    xmin > 0, default=1.\"\"\"\n",
    "    \n",
    "    deg = list(dict(G.degree).values())\n",
    "    x = []\n",
    "    for el in deg:\n",
    "        if el >= xmin:\n",
    "            x.append(el)\n",
    "    n = len(x)\n",
    "    intervallo = []\n",
    "    for i in range(1, 1001):\n",
    "        q = 1 + 6*i/1000\n",
    "        intervallo.append(q)\n",
    "    LL = {}\n",
    "    for alfa in intervallo:\n",
    "        zeta = 0\n",
    "        for i in range(10000):\n",
    "            zeta = zeta + (i + xmin) ** (-alfa)\n",
    "        likelihood = -n*zeta - alfa*sum(np.log(x))\n",
    "        LL[alfa] = likelihood\n",
    "        \n",
    "    alfa_hat = max(LL, key=LL.get)\n",
    "    return alfa_hat"
   ]
  },
  {
   "cell_type": "markdown",
   "metadata": {
    "slideshow": {
     "slide_type": "subslide"
    }
   },
   "source": [
    "Let's see `P`."
   ]
  },
  {
   "cell_type": "code",
   "execution_count": 40,
   "metadata": {
    "slideshow": {
     "slide_type": "fragment"
    }
   },
   "outputs": [
    {
     "data": {
      "text/plain": [
       "1.75"
      ]
     },
     "execution_count": 40,
     "metadata": {},
     "output_type": "execute_result"
    }
   ],
   "source": [
    "exponent_power_law(P, 1)"
   ]
  },
  {
   "cell_type": "markdown",
   "metadata": {
    "slideshow": {
     "slide_type": "fragment"
    }
   },
   "source": [
    "![](img/exponent_power_law_P_1.png)"
   ]
  },
  {
   "cell_type": "markdown",
   "metadata": {
    "slideshow": {
     "slide_type": "subslide"
    }
   },
   "source": [
    "Let's fit a power law starting from 7, degree from which the frequency seemed to decrease."
   ]
  },
  {
   "cell_type": "code",
   "execution_count": 41,
   "metadata": {
    "slideshow": {
     "slide_type": "fragment"
    }
   },
   "outputs": [
    {
     "data": {
      "text/plain": [
       "1.558"
      ]
     },
     "execution_count": 41,
     "metadata": {},
     "output_type": "execute_result"
    }
   ],
   "source": [
    "exponent_power_law(P, 7)"
   ]
  },
  {
   "cell_type": "markdown",
   "metadata": {
    "slideshow": {
     "slide_type": "fragment"
    }
   },
   "source": [
    "![](img/exponent_power_law_P_7.png)"
   ]
  },
  {
   "cell_type": "markdown",
   "metadata": {
    "slideshow": {
     "slide_type": "subslide"
    }
   },
   "source": [
    "And now let's get done with `R`."
   ]
  },
  {
   "cell_type": "code",
   "execution_count": 42,
   "metadata": {
    "slideshow": {
     "slide_type": "fragment"
    }
   },
   "outputs": [
    {
     "data": {
      "text/plain": [
       "3.742"
      ]
     },
     "execution_count": 42,
     "metadata": {},
     "output_type": "execute_result"
    }
   ],
   "source": [
    "exponent_power_law(R, 1)"
   ]
  },
  {
   "cell_type": "markdown",
   "metadata": {
    "slideshow": {
     "slide_type": "fragment"
    }
   },
   "source": [
    "![](img/exponent_power_law_R_1.png)"
   ]
  }
 ],
 "metadata": {
  "celltoolbar": "Slideshow",
  "kernelspec": {
   "display_name": "Python 3",
   "language": "python",
   "name": "python3"
  },
  "language_info": {
   "codemirror_mode": {
    "name": "ipython",
    "version": 3
   },
   "file_extension": ".py",
   "mimetype": "text/x-python",
   "name": "python",
   "nbconvert_exporter": "python",
   "pygments_lexer": "ipython3",
   "version": "3.8.3"
  }
 },
 "nbformat": 4,
 "nbformat_minor": 4
}
